{
 "cells": [
  {
   "cell_type": "markdown",
   "metadata": {},
   "source": [
    "# [Homomorphic Encryption](https://en.wikipedia.org/wiki/Homomorphic_encryption)\n",
    "\n",
    "Playing around with (fully) homomorphic encryption schemes."
   ]
  },
  {
   "cell_type": "code",
   "execution_count": 1,
   "metadata": {},
   "outputs": [],
   "source": [
    "import numpy as np\n",
    "from math import gcd\n",
    "from random import randint, randrange\n",
    "from typing import List, Tuple, NamedTuple\n",
    "from numpy import ndarray"
   ]
  },
  {
   "cell_type": "code",
   "execution_count": 2,
   "metadata": {},
   "outputs": [],
   "source": [
    "# Taken from: https://en.wikibooks.org/wiki/Algorithm_Implementation/Mathematics/Extended_Euclidean_algorithm\n",
    "def egcd(a: int, b: int) -> Tuple[int, int, int]:\n",
    "    if a == 0:\n",
    "        return (b, 0, 1)\n",
    "    else:\n",
    "        g, y, x = egcd(b % a, a)\n",
    "        return (g, x - (b // a) * y, y)\n",
    "\n",
    "def modinv(a: int, m: int) -> int:\n",
    "    g, x, y = egcd(a, m)\n",
    "    if g != 1:\n",
    "        raise Exception('modular inverse does not exist')\n",
    "    else:\n",
    "        return x % m\n",
    "\n",
    "assert modinv(17, 3120) == 2753\n",
    "assert egcd(1071, 462) == (21, -3, 7)"
   ]
  },
  {
   "cell_type": "markdown",
   "metadata": {},
   "source": [
    "## [El Gamal](https://en.wikipedia.org/wiki/ElGamal_encryption)\n",
    "\n",
    "El Gamal can be used to perform encrypted multiplications."
   ]
  },
  {
   "cell_type": "code",
   "execution_count": 3,
   "metadata": {},
   "outputs": [],
   "source": [
    "class PublicKey(NamedTuple):\n",
    "    p: int\n",
    "    a: int\n",
    "    b: int\n",
    "\n",
    "class SecretKey(NamedTuple):\n",
    "    d: int\n",
    "\n",
    "class Ciphertext(NamedTuple):\n",
    "    r: int\n",
    "    t: int"
   ]
  },
  {
   "cell_type": "code",
   "execution_count": 4,
   "metadata": {},
   "outputs": [],
   "source": [
    "def keygen(p: int) -> Tuple[PublicKey, SecretKey]:\n",
    "    # a: 1 < a < p - 1\n",
    "    a: int = randint(1, p - 1)\n",
    "    # d: 2 <= d <= p - 2\n",
    "    d: int = randint(2, p - 2)\n",
    "    b: int = (a ** d) % p\n",
    "    pk: PublicKey = PublicKey(p, a, b)\n",
    "    sk: SecretKey = SecretKey(d)\n",
    "    return (pk, sk)"
   ]
  },
  {
   "cell_type": "code",
   "execution_count": 5,
   "metadata": {},
   "outputs": [],
   "source": [
    "def encrypt(message: int, pk: PublicKey) -> Ciphertext:\n",
    "    k: int = randint(0, 100)    \n",
    "    r: int = (pk.a ** k) % pk.p\n",
    "    t: int = ((pk.b ** k) * message) % pk.p\n",
    "    return Ciphertext(r, t)"
   ]
  },
  {
   "cell_type": "code",
   "execution_count": 6,
   "metadata": {},
   "outputs": [],
   "source": [
    "def decrypt(c: Ciphertext, pk: PublicKey, sk: SecretKey) -> int:\n",
    "    # NOTE: This implementation of https://en.wikipedia.org/wiki/Modular_multiplicative_inverse is expensive\n",
    "    # TODO: One can use the `modinv` function from above but I'll leave this code here as another way to compute it\n",
    "    return ((c.r ** sk.d) ** (pk.p - 2) * c.t) % pk.p"
   ]
  },
  {
   "cell_type": "code",
   "execution_count": 7,
   "metadata": {},
   "outputs": [],
   "source": [
    "def mult(a: Ciphertext, b: Ciphertext) -> Ciphertext:\n",
    "    r: int = a.r * b.r\n",
    "    t: int = a.t * b.t\n",
    "    return Ciphertext(r, t)"
   ]
  },
  {
   "cell_type": "code",
   "execution_count": 8,
   "metadata": {},
   "outputs": [
    {
     "name": "stdout",
     "output_type": "stream",
     "text": [
      "--- Message Encryption / Decryption ---\n",
      "Message (Plaintext): 42\n",
      "Message (Ciphertext): Ciphertext(r=41, t=32)\n",
      "Message (Decrypted): 42\n"
     ]
    }
   ],
   "source": [
    "pk, sk = keygen(47)\n",
    "\n",
    "print('--- Message Encryption / Decryption ---')\n",
    "plaintext: int = 42\n",
    "print(f'Message (Plaintext): {plaintext}')\n",
    "    \n",
    "ciphertext: Ciphertext = encrypt(plaintext, pk)\n",
    "print(f'Message (Ciphertext): {ciphertext}')\n",
    "\n",
    "decrypted: int = decrypt(ciphertext, pk, sk)\n",
    "print(f'Message (Decrypted): {decrypted}')\n",
    "\n",
    "assert plaintext == decrypted"
   ]
  },
  {
   "cell_type": "code",
   "execution_count": 9,
   "metadata": {},
   "outputs": [
    {
     "name": "stdout",
     "output_type": "stream",
     "text": [
      "--- Encrypted Multiplication ---\n",
      "Numbers (Plaintext): 6, 5\n",
      "Result (Plaintext): 30\n",
      "Numbers (Ciphertext): Ciphertext(r=12, t=18), Ciphertext(r=8, t=38)\n",
      "Result (Ciphertext): Ciphertext(r=96, t=684)\n",
      "Result (Decrypted): 30\n"
     ]
    }
   ],
   "source": [
    "pk, sk = keygen(47)\n",
    "\n",
    "print('--- Encrypted Multiplication ---')\n",
    "a: int = 6\n",
    "b: int = 5\n",
    "print(f'Numbers (Plaintext): {a}, {b}')\n",
    "print(f'Result (Plaintext): {a * b}')\n",
    "\n",
    "enc_a: Ciphertext = encrypt(a, pk)\n",
    "enc_b: Ciphertext = encrypt(b, pk)\n",
    "print(f'Numbers (Ciphertext): {enc_a}, {enc_b}')\n",
    "\n",
    "result: Ciphertext = mult(enc_a, enc_b)\n",
    "print(f'Result (Ciphertext): {result}')\n",
    "decrypted: int = decrypt(result, pk, sk)\n",
    "print(f'Result (Decrypted): {decrypted}')\n",
    "\n",
    "assert a * b == decrypted"
   ]
  },
  {
   "cell_type": "markdown",
   "metadata": {},
   "source": [
    "## [RSA](https://en.wikipedia.org/wiki/RSA_(cryptosystem)) Cryptosystem\n",
    "\n",
    "RSA can be used to perform encrypted multiplications."
   ]
  },
  {
   "cell_type": "code",
   "execution_count": 10,
   "metadata": {},
   "outputs": [],
   "source": [
    "class PublicKey(NamedTuple):\n",
    "    e: int\n",
    "    n: int\n",
    "\n",
    "class SecretKey(NamedTuple):\n",
    "    d: int\n",
    "    n: int\n",
    "\n",
    "class Ciphertext(NamedTuple):\n",
    "    m: int"
   ]
  },
  {
   "cell_type": "code",
   "execution_count": 11,
   "metadata": {},
   "outputs": [],
   "source": [
    "def keygen(p: int, q: int) -> Tuple[PublicKey, SecretKey]:\n",
    "    n: int = p * q\n",
    "    phi: int = (p - 1) * (q - 1)\n",
    "    # e must be greater than 1 and smaller than phi\n",
    "    # furthermore gcd(phi, e) must be 1\n",
    "    e: int = 2\n",
    "    while gcd(phi, e) != 1:\n",
    "        e += 1\n",
    "    d: int = modinv(e, phi)\n",
    "    pk: PublicKey = PublicKey(e, n)\n",
    "    sk: SecretKey = SecretKey(d, n)\n",
    "    return (pk, sk)\n",
    "    \n",
    "assert keygen(61, 53)[0] == PublicKey(7, 3233)\n",
    "assert keygen(61, 53)[1] == SecretKey(1783, 3233)"
   ]
  },
  {
   "cell_type": "code",
   "execution_count": 12,
   "metadata": {},
   "outputs": [],
   "source": [
    "def encrypt(message: int, pk: PublicKey) -> Ciphertext:\n",
    "    return Ciphertext(message ** pk.e % pk.n)"
   ]
  },
  {
   "cell_type": "code",
   "execution_count": 13,
   "metadata": {},
   "outputs": [],
   "source": [
    "def decrypt(c: Ciphertext, sk: SecretKey) -> int:\n",
    "    return c.m ** sk.d % sk.n"
   ]
  },
  {
   "cell_type": "code",
   "execution_count": 14,
   "metadata": {},
   "outputs": [],
   "source": [
    "def mult(a: Ciphertext, b: Ciphertext) -> Ciphertext:\n",
    "    return Ciphertext(m=(a.m * b.m))"
   ]
  },
  {
   "cell_type": "code",
   "execution_count": 15,
   "metadata": {},
   "outputs": [
    {
     "name": "stdout",
     "output_type": "stream",
     "text": [
      "--- Message Encryption / Decryption ---\n",
      "Message (Plaintext): 42\n",
      "Message (Ciphertext): Ciphertext(m=240)\n",
      "Message (Decrypted): 42\n"
     ]
    }
   ],
   "source": [
    "pk, sk = keygen(61, 53)\n",
    "\n",
    "print('--- Message Encryption / Decryption ---')\n",
    "plaintext: int = 42\n",
    "print(f'Message (Plaintext): {plaintext}')\n",
    "    \n",
    "ciphertext: Ciphertext = encrypt(plaintext, pk)\n",
    "print(f'Message (Ciphertext): {ciphertext}')\n",
    "\n",
    "decrypted: int = decrypt(ciphertext, sk)\n",
    "print(f'Message (Decrypted): {decrypted}')\n",
    "\n",
    "assert plaintext == decrypted"
   ]
  },
  {
   "cell_type": "code",
   "execution_count": 16,
   "metadata": {},
   "outputs": [
    {
     "name": "stdout",
     "output_type": "stream",
     "text": [
      "--- Encrypted Multiplication ---\n",
      "Numbers (Plaintext): 6, 5\n",
      "Result (Plaintext): 30\n",
      "Numbers (Ciphertext): Ciphertext(m=1898), Ciphertext(m=533)\n",
      "Result (Ciphertext): Ciphertext(m=1011634)\n",
      "Result (Decrypted): 30\n"
     ]
    }
   ],
   "source": [
    "pk, sk = keygen(61, 53)\n",
    "\n",
    "print('--- Encrypted Multiplication ---')\n",
    "a: int = 6\n",
    "b: int = 5\n",
    "print(f'Numbers (Plaintext): {a}, {b}')\n",
    "print(f'Result (Plaintext): {a * b}')\n",
    "\n",
    "enc_a: Ciphertext = encrypt(a, pk)\n",
    "enc_b: Ciphertext = encrypt(b, pk)\n",
    "print(f'Numbers (Ciphertext): {enc_a}, {enc_b}')\n",
    "\n",
    "result: Ciphertext = mult(enc_a, enc_b)\n",
    "print(f'Result (Ciphertext): {result}')\n",
    "decrypted: int = decrypt(result, sk)\n",
    "print(f'Result (Decrypted): {decrypted}')\n",
    "\n",
    "assert a * b == decrypted"
   ]
  },
  {
   "cell_type": "markdown",
   "metadata": {},
   "source": [
    "## [Paillier](https://en.wikipedia.org/wiki/Paillier_cryptosystem) Cryptosystem\n",
    "\n",
    "Paillier can be used to perform encrypted additions."
   ]
  },
  {
   "cell_type": "code",
   "execution_count": 17,
   "metadata": {},
   "outputs": [],
   "source": [
    "class PublicKey(NamedTuple):\n",
    "    n: int\n",
    "    g: int\n",
    "\n",
    "class SecretKey(NamedTuple):\n",
    "    la: int\n",
    "    mu: int\n",
    "\n",
    "class Ciphertext(NamedTuple):\n",
    "    m: int"
   ]
  },
  {
   "cell_type": "code",
   "execution_count": 18,
   "metadata": {},
   "outputs": [],
   "source": [
    "def keygen(p: int, q: int) -> Tuple[PublicKey, SecretKey]:\n",
    "    assert p.bit_length() == q.bit_length()\n",
    "    n: int = p * q\n",
    "    g: int = n + 1\n",
    "    la: int = (p - 1) * (q - 1)\n",
    "    mu: int = modinv(la, n)\n",
    "    pk: PublicKey = PublicKey(n, g)\n",
    "    sk: SecretKey = SecretKey(la, mu)\n",
    "    return (pk, sk)\n",
    "\n",
    "assert keygen(61, 53)[0] == PublicKey(3233, 3234)\n",
    "assert keygen(61, 53)[1] == SecretKey(3120, 2718)"
   ]
  },
  {
   "cell_type": "code",
   "execution_count": 19,
   "metadata": {},
   "outputs": [],
   "source": [
    "def encrypt(message: int, pk: PublicKey) -> Ciphertext:\n",
    "    r: int = 0\n",
    "    while gcd(r, pk.n) != 1:\n",
    "        r: int = randrange(0, pk.n + 1)\n",
    "    m: int = ((pk.g ** message % pk.n ** 2) * (r ** pk.n % pk.n ** 2)) % pk.n ** 2\n",
    "    return Ciphertext(m)"
   ]
  },
  {
   "cell_type": "code",
   "execution_count": 20,
   "metadata": {},
   "outputs": [],
   "source": [
    "def decrypt(c: Ciphertext, pk: PublicKey, sk: SecretKey) -> int:\n",
    "    return ((((c.m ** sk.la) % pk.n ** 2) - 1) // pk.n) * sk.mu % pk.n"
   ]
  },
  {
   "cell_type": "code",
   "execution_count": 21,
   "metadata": {},
   "outputs": [],
   "source": [
    "def add(a: Ciphertext, b: Ciphertext, pk: PublicKey) -> Ciphertext:\n",
    "    return Ciphertext(a.m * b.m % (pk.n ** 2))"
   ]
  },
  {
   "cell_type": "code",
   "execution_count": 22,
   "metadata": {},
   "outputs": [
    {
     "name": "stdout",
     "output_type": "stream",
     "text": [
      "--- Message Encryption / Decryption ---\n",
      "Message (Plaintext): 42\n",
      "Message (Ciphertext): Ciphertext(m=1548548)\n",
      "Message (Decrypted): 42\n"
     ]
    }
   ],
   "source": [
    "pk, sk = keygen(61, 53)\n",
    "\n",
    "print('--- Message Encryption / Decryption ---')\n",
    "plaintext: int = 42\n",
    "print(f'Message (Plaintext): {plaintext}')\n",
    "    \n",
    "ciphertext: Ciphertext = encrypt(plaintext, pk)\n",
    "print(f'Message (Ciphertext): {ciphertext}')\n",
    "\n",
    "decrypted: int = decrypt(ciphertext, pk, sk)\n",
    "print(f'Message (Decrypted): {decrypted}')\n",
    "\n",
    "assert plaintext == decrypted"
   ]
  },
  {
   "cell_type": "code",
   "execution_count": 23,
   "metadata": {},
   "outputs": [
    {
     "name": "stdout",
     "output_type": "stream",
     "text": [
      "--- Encrypted Addition (with encrypted values) ---\n",
      "Numbers (Plaintext): 6, 5\n",
      "Result (Plaintext): 11\n",
      "Numbers (Ciphertext): Ciphertext(m=934918), Ciphertext(m=4097088)\n",
      "Result (Ciphertext): Ciphertext(m=1421243)\n",
      "Result (Decrypted): 11\n",
      "--- Encrypted Addition (with encrypted and plaintext value) ---\n",
      "Numbers (Plaintext): 13, 13\n",
      "Result (Plaintext): 33\n",
      "Number (Ciphertext): Ciphertext(m=10310040)\n",
      "Result (Ciphertext): Ciphertext(m=10436127)\n",
      "Result (Decrypted): 33\n",
      "--- Encrypted Multiplication (with encrypted and plaintext value) ---\n",
      "Numbers (Plaintext): 12, 12\n",
      "Result (Plaintext): 24\n",
      "Number (Ciphertext): Ciphertext(m=4026668)\n",
      "Result (Ciphertext): Ciphertext(m=3272659)\n",
      "Result (Decrypted): 24\n"
     ]
    }
   ],
   "source": [
    "pk, sk = keygen(61, 53)\n",
    "\n",
    "print('--- Encrypted Addition (with encrypted values) ---')\n",
    "a: int = 6\n",
    "b: int = 5\n",
    "print(f'Numbers (Plaintext): {a}, {b}')\n",
    "print(f'Result (Plaintext): {a + b}')\n",
    "\n",
    "enc_a: Ciphertext = encrypt(a, pk)\n",
    "enc_b: Ciphertext = encrypt(b, pk)\n",
    "print(f'Numbers (Ciphertext): {enc_a}, {enc_b}')\n",
    "\n",
    "result: Ciphertext = add(enc_a, enc_b, pk)\n",
    "print(f'Result (Ciphertext): {result}')\n",
    "decrypted: int = decrypt(result, pk, sk)\n",
    "print(f'Result (Decrypted): {decrypted}')\n",
    "\n",
    "assert a + b == decrypted\n",
    "\n",
    "print('--- Encrypted Addition (with encrypted and plaintext value) ---')\n",
    "a: int = 20\n",
    "b: int = 13\n",
    "print(f'Numbers (Plaintext): {b}, {b}')\n",
    "print(f'Result (Plaintext): {a + b}')\n",
    "\n",
    "enc_a: Ciphertext = encrypt(a, pk)\n",
    "print(f'Number (Ciphertext): {enc_a}')\n",
    "\n",
    "# `pk.n + 1` == `g`\n",
    "result: Ciphertext = Ciphertext(enc_a.m * (pk.n + 1) ** b % (pk.n ** 2))\n",
    "print(f'Result (Ciphertext): {result}')\n",
    "decrypted: int = decrypt(result, pk, sk)\n",
    "print(f'Result (Decrypted): {decrypted}')\n",
    "\n",
    "assert a + b == decrypted\n",
    "\n",
    "print('--- Encrypted Multiplication (with encrypted and plaintext value) ---')\n",
    "a: int = 2\n",
    "b: int = 12\n",
    "print(f'Numbers (Plaintext): {b}, {b}')\n",
    "print(f'Result (Plaintext): {a * b}')\n",
    "\n",
    "enc_a: Ciphertext = encrypt(a, pk)\n",
    "print(f'Number (Ciphertext): {enc_a}')\n",
    "\n",
    "result: Ciphertext = Ciphertext(enc_a.m ** b % (pk.n ** 2))\n",
    "print(f'Result (Ciphertext): {result}')\n",
    "decrypted: int = decrypt(result, pk, sk)\n",
    "print(f'Result (Decrypted): {decrypted}')\n",
    "\n",
    "assert a * b == decrypted"
   ]
  },
  {
   "cell_type": "markdown",
   "metadata": {},
   "source": [
    "## [Efficient Homomorphic Encryption on Integer Vectors and Its Applications](https://www.rle.mit.edu/sia/wp-content/uploads/2015/04/2014-zhou-wornell-ita.pdf)\n",
    "\n",
    "**NOTE:** The code written here was produced by following the blog post [\"Building Safe A.I.\"](http://iamtrask.github.io/2017/03/17/safe-ai/) by Andrew Trask."
   ]
  },
  {
   "cell_type": "markdown",
   "metadata": {},
   "source": [
    "### Terminology\n",
    "\n",
    "- **S**: Matrix which represents the secret / private key\n",
    "- **M**: Public Key (also used to perform Math operations)\n",
    "- **c**: Vector which contains the encrypted data\n",
    "- **x**: Plaintext (some papers use the variable **m** instead)\n",
    "- ***w***: (Weighting) Scalar used to control signal / noise ratio of **x**\n",
    "- **e**: Random noise (e.g. noise added to the data before encrypting it via the public key) which makes the decryption difficult\n",
    "\n",
    "Homomorphic Encryption has 4 kind of operations we care about:\n",
    "\n",
    "1. Public / private keypair generation\n",
    "1. One-way encryption\n",
    "1. Decryption\n",
    "1. Math operations\n",
    "\n",
    "$$\n",
    "\\textit{S}c = \\textit{w}x + e\n",
    "$$\n",
    "\n",
    "$$\n",
    "x = \\lceil \\frac{Sc}{\\textit{w}} \\rfloor\n",
    "$$"
   ]
  },
  {
   "cell_type": "code",
   "execution_count": 24,
   "metadata": {},
   "outputs": [],
   "source": [
    "def generate_key(w: int, m: int, n: int) -> ndarray:\n",
    "    S: ndarray = (np.random.rand(m, n) * w / (2 ** 16))\n",
    "    return S\n",
    "\n",
    "def encrypt(x: ndarray, S: ndarray, m: int, n: int, w: int) -> ndarray:\n",
    "    assert len(x) == len(S)\n",
    "    e: ndarray = (np.random.rand(m))\n",
    "    c: ndarray = np.linalg.inv(S).dot((w * x) + e)\n",
    "    return c\n",
    "\n",
    "def decrypt(c: ndarray, S: ndarray, w) -> ndarray:\n",
    "    return (S.dot(c) / w).astype('int')\n",
    "\n",
    "def switch_key(c: ndarray, S: ndarray, m: int, n: int, T) -> (ndarray, ndarray):\n",
    "    l: int = int(np.ceil(np.log2(np.max(np.abs(c)))))\n",
    "    c_star: ndarray = get_c_star(c, m, l)\n",
    "    S_star: ndarray = get_S_star(S, m, n, l)\n",
    "    n_prime = n + 1\n",
    "    S_prime = np.concatenate((np.eye(m), T.T), 0).T\n",
    "    A: ndarray = (np.random.rand(n_prime - m, n * l) * 10).astype('int')\n",
    "    E: ndarray = (1 * np.random.rand(S_star.shape[0], S_star.shape[1])).astype('int')\n",
    "    M: ndarray = np.concatenate(((S_star - T.dot(A) + E), A), 0)\n",
    "    c_prime: ndarray = M.dot(c_star)\n",
    "    return c_prime, S_prime\n",
    "\n",
    "def get_c_star(c: ndarray, m: int, l: int) -> ndarray:\n",
    "    c_star: ndarray = np.zeros(l * m, dtype='int')\n",
    "    for i in range(m):\n",
    "        b: ndarray = np.array(list(np.binary_repr(np.abs(c[i]))), dtype='int')\n",
    "        if (c[i] < 0):\n",
    "            b *= -1\n",
    "        c_star[(i * l) + (l - len(b)): (i + 1) * l] += b\n",
    "    return c_star\n",
    "\n",
    "def get_S_star(S: ndarray, m: int, n: int, l: int) -> ndarray:\n",
    "    S_star: List = list()\n",
    "    for i in range(l):\n",
    "        S_star.append(S * 2 ** (l - i - 1))\n",
    "    S_star: ndarray = np.array(S_star).transpose(1, 2, 0).reshape(m, n * l)\n",
    "    return S_star\n",
    "\n",
    "def get_T(n: int) -> ndarray:\n",
    "    n_prime = n + 1\n",
    "    T: ndarray = (10 * np.random.rand(n, n_prime - n)).astype('int')\n",
    "    return T\n",
    "\n",
    "def encrypt_via_switch(x: ndarray, w: int, m: int, n: int, T: ndarray) -> (ndarray, ndarray):\n",
    "    c, S = switch_key(x * w, np.eye(m), m, n, T)\n",
    "    return (c, S)"
   ]
  },
  {
   "cell_type": "code",
   "execution_count": 25,
   "metadata": {},
   "outputs": [
    {
     "data": {
      "text/plain": [
       "array([[3.23752234e-05, 8.71385929e-05, 1.31983522e-04, 2.07309940e-05],\n",
       "       [1.86839421e-04, 6.44340965e-05, 1.80036139e-04, 1.37908927e-04],\n",
       "       [3.59239655e-05, 1.13418365e-04, 2.11182783e-04, 3.64218508e-05],\n",
       "       [1.56050588e-04, 2.07357406e-04, 1.54697291e-04, 4.90344554e-05]])"
      ]
     },
     "execution_count": 25,
     "metadata": {},
     "output_type": "execute_result"
    }
   ],
   "source": [
    "x: ndarray = np.array([0, 1, 2, 5])\n",
    "    \n",
    "m: int = len(x)\n",
    "n: int = m\n",
    "w: int = 16\n",
    "\n",
    "S: ndarray = generate_key(w, m, n)\n",
    "S"
   ]
  },
  {
   "cell_type": "markdown",
   "metadata": {},
   "source": [
    "### Basic addition / multiplication"
   ]
  },
  {
   "cell_type": "code",
   "execution_count": 26,
   "metadata": {},
   "outputs": [
    {
     "data": {
      "text/plain": [
       "array([-20682572.06481609,  15771016.05581861, -10814309.73560343,\n",
       "        34891263.61949188])"
      ]
     },
     "execution_count": 26,
     "metadata": {},
     "output_type": "execute_result"
    }
   ],
   "source": [
    "c: ndarray = encrypt(x, S, m, n, w)\n",
    "c"
   ]
  },
  {
   "cell_type": "code",
   "execution_count": 27,
   "metadata": {},
   "outputs": [
    {
     "data": {
      "text/plain": [
       "array([0, 1, 2, 5])"
      ]
     },
     "execution_count": 27,
     "metadata": {},
     "output_type": "execute_result"
    }
   ],
   "source": [
    "decrypt(c, S, w)"
   ]
  },
  {
   "cell_type": "code",
   "execution_count": 28,
   "metadata": {},
   "outputs": [
    {
     "data": {
      "text/plain": [
       "array([ 0,  2,  4, 10])"
      ]
     },
     "execution_count": 28,
     "metadata": {},
     "output_type": "execute_result"
    }
   ],
   "source": [
    "decrypt(c + c, S, w)"
   ]
  },
  {
   "cell_type": "code",
   "execution_count": 29,
   "metadata": {},
   "outputs": [
    {
     "data": {
      "text/plain": [
       "array([ 0, 10, 20, 50])"
      ]
     },
     "execution_count": 29,
     "metadata": {},
     "output_type": "execute_result"
    }
   ],
   "source": [
    "decrypt(c * 10, S, w)"
   ]
  },
  {
   "cell_type": "markdown",
   "metadata": {},
   "source": [
    "### Key-switching addition / multiplication"
   ]
  },
  {
   "cell_type": "code",
   "execution_count": 30,
   "metadata": {},
   "outputs": [],
   "source": [
    "T: ndarray = get_T(n)"
   ]
  },
  {
   "cell_type": "code",
   "execution_count": 31,
   "metadata": {},
   "outputs": [],
   "source": [
    "c, S = encrypt_via_switch(x, w, m, n, T)"
   ]
  },
  {
   "cell_type": "code",
   "execution_count": 32,
   "metadata": {},
   "outputs": [
    {
     "data": {
      "text/plain": [
       "array([0, 1, 2, 5])"
      ]
     },
     "execution_count": 32,
     "metadata": {},
     "output_type": "execute_result"
    }
   ],
   "source": [
    "decrypt(c, S, w)"
   ]
  },
  {
   "cell_type": "code",
   "execution_count": 33,
   "metadata": {},
   "outputs": [
    {
     "data": {
      "text/plain": [
       "array([ 0,  2,  4, 10])"
      ]
     },
     "execution_count": 33,
     "metadata": {},
     "output_type": "execute_result"
    }
   ],
   "source": [
    "decrypt(c + c, S, w)"
   ]
  },
  {
   "cell_type": "code",
   "execution_count": 34,
   "metadata": {},
   "outputs": [
    {
     "data": {
      "text/plain": [
       "array([ 0, 10, 20, 50])"
      ]
     },
     "execution_count": 34,
     "metadata": {},
     "output_type": "execute_result"
    }
   ],
   "source": [
    "decrypt(c * 10, S, w)"
   ]
  }
 ],
 "metadata": {
  "kernelspec": {
   "display_name": "Python 3",
   "language": "python",
   "name": "python3"
  },
  "language_info": {
   "codemirror_mode": {
    "name": "ipython",
    "version": 3
   },
   "file_extension": ".py",
   "mimetype": "text/x-python",
   "name": "python",
   "nbconvert_exporter": "python",
   "pygments_lexer": "ipython3",
   "version": "3.6.9"
  }
 },
 "nbformat": 4,
 "nbformat_minor": 4
}
